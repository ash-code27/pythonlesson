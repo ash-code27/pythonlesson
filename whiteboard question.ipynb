{
 "cells": [
  {
   "cell_type": "code",
   "execution_count": 1,
   "metadata": {},
   "outputs": [
    {
     "ename": "SyntaxError",
     "evalue": "invalid syntax (<ipython-input-1-8ad88ee7ec35>, line 1)",
     "output_type": "error",
     "traceback": [
      "\u001b[1;36m  File \u001b[1;32m\"<ipython-input-1-8ad88ee7ec35>\"\u001b[1;36m, line \u001b[1;32m1\u001b[0m\n\u001b[1;33m    Remove Vowels\u001b[0m\n\u001b[1;37m           ^\u001b[0m\n\u001b[1;31mSyntaxError\u001b[0m\u001b[1;31m:\u001b[0m invalid syntax\n"
     ]
    }
   ],
   "source": [
    "Remove Vowels\n",
    "-------------\n",
    "Write a function that will remove all vowels from a given string. The function should return a string.\n",
    "Example 1:\n",
    "Input: ‘Rangers’\n",
    "Output: ‘Rngrs’\n",
    "Example 2: \n",
    "Input: 'Joel'\n",
    "Output: 'Jl'\n",
    "Collapse\n",
    "\n",
    "\n",
    "\n",
    "white_check_mark\n",
    "eyes\n",
    "raised_hands\n"
   ]
  },
  {
   "cell_type": "code",
   "execution_count": 25,
   "metadata": {},
   "outputs": [
    {
     "name": "stdout",
     "output_type": "stream",
     "text": [
      "enter any wordrangers\n"
     ]
    },
    {
     "data": {
      "text/plain": [
       "'rngrs'"
      ]
     },
     "execution_count": 25,
     "metadata": {},
     "output_type": "execute_result"
    }
   ],
   "source": [
    "def remove_vowels():\n",
    "    string = input(\"enter any word\")\n",
    "    newtext = \"\"\n",
    "    for letter in string:\n",
    "#        print(letter)\n",
    "    \n",
    "        if letter not in \"aeiou\":\n",
    "            newtext += letter\n",
    "            #print(newtext)\n",
    "        \n",
    "        \n",
    "    return newtext\n",
    "\n",
    "remove_vowels()\n",
    "    "
   ]
  },
  {
   "cell_type": "code",
   "execution_count": 11,
   "metadata": {},
   "outputs": [
    {
     "name": "stdout",
     "output_type": "stream",
     "text": [
      "g is equal to g\n"
     ]
    }
   ],
   "source": [
    "word3 = (\"\")\n",
    "\n",
    "for letter in \"gate\":\n",
    "    if letter == \"g\":\n",
    "        print(\"g is equal to g\")\n",
    "        \n",
    "    \n",
    "    \n",
    "#     word3 += \n",
    "#     return"
   ]
  },
  {
   "cell_type": "code",
   "execution_count": 6,
   "metadata": {},
   "outputs": [
    {
     "data": {
      "text/plain": [
       "['g', 'a', 't', 'e']"
      ]
     },
     "execution_count": 6,
     "metadata": {},
     "output_type": "execute_result"
    }
   ],
   "source": [
    "#list(\"gate\")\n",
    "word = list(\"gate\")\n",
    "word2 = list"
   ]
  },
  {
   "cell_type": "code",
   "execution_count": 15,
   "metadata": {},
   "outputs": [
    {
     "name": "stdout",
     "output_type": "stream",
     "text": [
      "one is equal to one\n"
     ]
    }
   ],
   "source": [
    "if \"p\" in [4,5,\"p\",7]:\n",
    "    print(\"one is equal to one\")"
   ]
  },
  {
   "cell_type": "code",
   "execution_count": null,
   "metadata": {},
   "outputs": [],
   "source": []
  }
 ],
 "metadata": {
  "kernelspec": {
   "display_name": "Python 3",
   "language": "python",
   "name": "python3"
  },
  "language_info": {
   "codemirror_mode": {
    "name": "ipython",
    "version": 3
   },
   "file_extension": ".py",
   "mimetype": "text/x-python",
   "name": "python",
   "nbconvert_exporter": "python",
   "pygments_lexer": "ipython3",
   "version": "3.8.5"
  }
 },
 "nbformat": 4,
 "nbformat_minor": 4
}
